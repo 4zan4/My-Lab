{
  "nbformat": 4,
  "nbformat_minor": 0,
  "metadata": {
    "colab": {
      "provenance": [],
      "authorship_tag": "ABX9TyNZZIIXrM/VMUScfqKGSJdm",
      "include_colab_link": true
    },
    "kernelspec": {
      "name": "python3",
      "display_name": "Python 3"
    },
    "language_info": {
      "name": "python"
    }
  },
  "cells": [
    {
      "cell_type": "markdown",
      "metadata": {
        "id": "view-in-github",
        "colab_type": "text"
      },
      "source": [
        "<a href=\"https://colab.research.google.com/github/4zan4/My-Lab/blob/main/URL_Check.ipynb\" target=\"_parent\"><img src=\"https://colab.research.google.com/assets/colab-badge.svg\" alt=\"Open In Colab\"/></a>"
      ]
    },
    {
      "cell_type": "code",
      "source": [
        "import requests\n",
        "import time\n",
        "from bs4 import BeautifulSoup"
      ],
      "metadata": {
        "id": "ic0yj4cNOL_h"
      },
      "execution_count": null,
      "outputs": []
    },
    {
      "cell_type": "code",
      "execution_count": null,
      "metadata": {
        "id": "Lw6MDq9kNJgA"
      },
      "outputs": [],
      "source": [
        "# URL to check for bugs\n",
        "url = \"\"\n",
        "\n",
        "# Send a request to the website\n",
        "response = requests.get(url)\n",
        "\n",
        "# Check if the request was successful\n",
        "if response.status_code == 200:\n",
        "    print(\"Website loaded successfully.\")\n",
        "    # Parse the page content\n",
        "    soup = BeautifulSoup(response.text, 'html.parser')\n",
        "\n",
        "    # Look for common issues like broken links (404 errors)\n",
        "    links = soup.find_all('a', href=True)\n",
        "    for link in links:\n",
        "        link_url = link['href']\n",
        "        if not link_url.startswith('http'):\n",
        "            link_url = url + link_url  # Handle relative URLs\n",
        "        link_response = requests.get(link_url)\n",
        "        if link_response.status_code == 404:\n",
        "            print(f\"Broken link found: {link_url}\")\n",
        "        else:\n",
        "            print(f\"Link is working: {link_url}\")\n",
        "else:\n",
        "    print(\"Failed to load the website.\")\n"
      ]
    },
    {
      "cell_type": "code",
      "source": [
        "# URL to check for issues\n",
        "url = \"\"\n",
        "\n",
        "# Send a request to the website\n",
        "response = requests.get(url)\n",
        "\n",
        "# Check if the request was successful\n",
        "if response.status_code == 200:\n",
        "    print(\"Website loaded successfully.\")\n",
        "    # Parse the page content\n",
        "    soup = BeautifulSoup(response.text, 'html.parser')\n",
        "\n",
        "    # Check for missing JavaScript files\n",
        "    scripts = soup.find_all('script', src=True)\n",
        "    for script in scripts:\n",
        "        script_url = script['src']\n",
        "        if not script_url.startswith('http'):\n",
        "            script_url = url + script_url  # Handle relative URLs\n",
        "\n",
        "        # Added try-except block to handle ConnectionError\n",
        "        try:\n",
        "            script_response = requests.get(script_url)\n",
        "            if script_response.status_code != 200:\n",
        "                print(f\"Missing or broken JavaScript file: {script_url}\")\n",
        "            else:\n",
        "                print(f\"JavaScript file is working: {script_url}\")\n",
        "        except requests.exceptions.ConnectionError as e:\n",
        "            print(f\"Connection error for {script_url}: {e}\")\n",
        "            # You can choose to skip the file or handle the error differently\n",
        "\n",
        "    # Check for missing CSS files\n",
        "    stylesheets = soup.find_all('link', rel='stylesheet', href=True)\n",
        "    for stylesheet in stylesheets:\n",
        "        css_url = stylesheet['href']\n",
        "        if not css_url.startswith('http'):\n",
        "            css_url = url + css_url  # Handle relative URLs\n",
        "\n",
        "        # Added try-except block to handle ConnectionError\n",
        "        try:\n",
        "            css_response = requests.get(css_url)\n",
        "            if css_response.status_code != 200:\n",
        "                print(f\"Missing or broken CSS file: {css_url}\")\n",
        "            else:\n",
        "                print(f\"CSS file is working: {css_url}\")\n",
        "        except requests.exceptions.ConnectionError as e:\n",
        "            print(f\"Connection error for {css_url}: {e}\")\n",
        "            # You can choose to skip the file or handle the error differently\n",
        "\n",
        "else:\n",
        "    print(\"Failed to load the website.\")"
      ],
      "metadata": {
        "id": "h0SUviXlOEMQ"
      },
      "execution_count": null,
      "outputs": []
    },
    {
      "cell_type": "code",
      "source": [
        "# URL to check for performance issues\n",
        "url = \"\"\n",
        "\n",
        "# List of resources to check (you can expand this list with images, scripts, etc.)\n",
        "resources = [\n",
        "    url,  # Check the main page load time\n",
        "    url + \"/index.html\",  # Example of specific page\n",
        "    url + \"/assets/js/main.js\",  # Example of JS file\n",
        "    url + \"/assets/css/style.css\"  # Example of CSS file\n",
        "]\n",
        "\n",
        "# Function to measure load time of resources\n",
        "def check_resource_performance(resource_url):\n",
        "    start_time = time.time()\n",
        "    response = requests.get(resource_url)\n",
        "    load_time = time.time() - start_time\n",
        "    return load_time, response.status_code\n",
        "\n",
        "# Check performance of the resources\n",
        "for resource in resources:\n",
        "    load_time, status_code = check_resource_performance(resource)\n",
        "    if status_code == 200:\n",
        "        print(f\"Resource {resource} loaded in {load_time:.2f} seconds.\")\n",
        "    else:\n",
        "        print(f\"Failed to load {resource} (Status code: {status_code})\")\n"
      ],
      "metadata": {
        "id": "VTBSDgo7Od70"
      },
      "execution_count": null,
      "outputs": []
    }
  ]
}