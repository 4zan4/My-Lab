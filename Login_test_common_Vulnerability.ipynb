{
  "nbformat": 4,
  "nbformat_minor": 0,
  "metadata": {
    "colab": {
      "provenance": [],
      "authorship_tag": "ABX9TyMNQume2VFkD4badWkDoN/R",
      "include_colab_link": true
    },
    "kernelspec": {
      "name": "python3",
      "display_name": "Python 3"
    },
    "language_info": {
      "name": "python"
    }
  },
  "cells": [
    {
      "cell_type": "markdown",
      "metadata": {
        "id": "view-in-github",
        "colab_type": "text"
      },
      "source": [
        "<a href=\"https://colab.research.google.com/github/4zan4/My-Lab/blob/main/Login_test_common_Vulnerability.ipynb\" target=\"_parent\"><img src=\"https://colab.research.google.com/assets/colab-badge.svg\" alt=\"Open In Colab\"/></a>"
      ]
    },
    {
      "cell_type": "code",
      "source": [
        "import requests\n",
        "from urllib.parse import urlparse, urlencode\n"
      ],
      "metadata": {
        "id": "hLRX0cX0gEY7"
      },
      "execution_count": 4,
      "outputs": []
    },
    {
      "cell_type": "code",
      "execution_count": 3,
      "metadata": {
        "id": "IzKJDz8hdp9M"
      },
      "outputs": [],
      "source": [
        "# Function to test the login page for common vulnerabilities\n",
        "def test_login_page(url):\n",
        "    try:\n",
        "        # Check the initial response\n",
        "        response = requests.get(url)\n",
        "        if response.status_code != 200:\n",
        "            return f\"Failed to access the login page. Status code: {response.status_code}\"\n",
        "\n",
        "        potential_issues = []\n",
        "\n",
        "        # Test for Open Redirect\n",
        "        redirect_payload = {\n",
        "            \"redirect_uri\": \"https://evil.com\"\n",
        "        }\n",
        "        parsed_url = urlparse(url)\n",
        "        base_url = f\"{parsed_url.scheme}://{parsed_url.netloc}{parsed_url.path}\"\n",
        "        modified_url = f\"{base_url}?{urlencode(redirect_payload)}\"\n",
        "        redirect_response = requests.get(modified_url)\n",
        "\n",
        "        if redirect_response.status_code == 302 and \"evil.com\" in redirect_response.headers.get(\"Location\", \"\"):\n",
        "            potential_issues.append(\"Open Redirect vulnerability detected.\")\n",
        "\n",
        "        # Check for improper CSRF protection\n",
        "        if \"state=\" not in url or \"nonce=\" not in url:\n",
        "            potential_issues.append(\"Potential CSRF protection issue: Missing state or nonce parameter.\")\n",
        "\n",
        "        # Test for Weak Code Challenge\n",
        "        if \"code_challenge=\" in url and \"code_challenge_method=S256\" not in url:\n",
        "            potential_issues.append(\"Potential Weak PKCE Implementation: Missing S256 code challenge method.\")\n",
        "\n",
        "        # Return findings\n",
        "        if potential_issues:\n",
        "            return potential_issues\n",
        "        else:\n",
        "            return \"No common vulnerabilities found.\"\n",
        "\n",
        "    except Exception as e:\n",
        "        return f\"An error occurred: {str(e)}\""
      ]
    },
    {
      "cell_type": "code",
      "source": [
        "# Example usage\n",
        "login_url = \"\"\n",
        "results = test_login_page(login_url)\n",
        "for issue in results:\n",
        "    print(issue)"
      ],
      "metadata": {
        "id": "5hmup-S6gS2c"
      },
      "execution_count": null,
      "outputs": []
    }
  ]
}